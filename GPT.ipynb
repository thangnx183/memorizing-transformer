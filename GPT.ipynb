{
 "cells": [
  {
   "cell_type": "code",
   "execution_count": 2,
   "id": "12963dc0-3464-470b-9288-c157fe1d559e",
   "metadata": {},
   "outputs": [],
   "source": [
    "import torch \n",
    "import torch.nn as nn\n",
    "import torch.nn.functional as F"
   ]
  },
  {
   "cell_type": "code",
   "execution_count": 3,
   "id": "f1d2e828-2541-4378-b1e2-44cab697becb",
   "metadata": {},
   "outputs": [],
   "source": [
    "#hyperparameter \n",
    "sequence_length = 512\n",
    "embedding_dimension = 300\n",
    "head_dimension = 32\n",
    "number_heads = 8\n",
    "batch_size = 16\n",
    "scaling_factor = head_dimension**-0.5"
   ]
  },
  {
   "cell_type": "code",
   "execution_count": 4,
   "id": "115739e8-e3be-4451-b317-fef5a80e7d49",
   "metadata": {},
   "outputs": [
    {
     "name": "stdout",
     "output_type": "stream",
     "text": [
      "torch.Size([16, 512, 300])\n"
     ]
    }
   ],
   "source": [
    "input_data = torch.rand((batch_size,sequence_length,embedding_dimension))\n",
    "print(input_data.shape)"
   ]
  },
  {
   "cell_type": "code",
   "execution_count": 15,
   "id": "fe1476ed-e28d-43ee-8759-041858e22bfc",
   "metadata": {},
   "outputs": [],
   "source": [
    "#KQV transformation\n",
    "query_matrix = nn.Linear(embedding_dimension,head_dimension*number_heads)\n",
    "key_matrix = nn.Linear(embedding_dimension,head_dimension*number_heads)\n",
    "value_matrix = nn.Linear(embedding_dimension,head_dimension*number_heads)"
   ]
  },
  {
   "cell_type": "code",
   "execution_count": 25,
   "id": "b41f446f-4988-4e15-8a1e-d9c652580861",
   "metadata": {},
   "outputs": [
    {
     "name": "stdout",
     "output_type": "stream",
     "text": [
      "torch.Size([16, 8, 512, 32])\n",
      "torch.Size([16, 8, 512, 512])\n",
      "torch.Size([16, 8, 512, 512])\n",
      "torch.Size([16, 512, 256])\n"
     ]
    }
   ],
   "source": [
    "query = query_matrix(input_data)\n",
    "key = key_matrix(input_data)\n",
    "value = value_matrix(input_data)\n",
    "\n",
    "q = query.reshape(batch_size,sequence_length,number_heads,head_dimension)\n",
    "k = key.reshape(batch_size,sequence_length,number_heads,head_dimension)\n",
    "v = value.reshape(batch_size,sequence_length,number_heads,head_dimension)\n",
    "\n",
    "q = q.transpose(1,2)\n",
    "k = k.transpose(1,2)\n",
    "v = v.transpose(1,2)\n",
    "\n",
    "print(q.shape)\n",
    "qk = q@k.transpose(-1,-2)* scaling_factor\n",
    "print(qk.shape)\n",
    "\n",
    "mask = torch.ones((qk.shape[-1],qk.shape[-1]),dtype=torch.bool).triu(1)\n",
    "qk_masked = qk.masked_fill(mask,float('-inf'))\n",
    "qk_sofmax  = F.softmax(qk_masked,dim=-1)\n",
    "print(qk_sofmax.shape)\n",
    "new_value = qk_sofmax@v\n",
    "new_value = new_value.transpose(1,2)\n",
    "new_value = new_value.reshape(batch_size,sequence_length,-1)\n",
    "print(new_value.shape)"
   ]
  },
  {
   "cell_type": "code",
   "execution_count": 46,
   "id": "ca33b337-645c-420c-82f2-0a1fddbcd2dc",
   "metadata": {},
   "outputs": [],
   "source": [
    "class MultiHeadsAttention(nn.Module):\n",
    "    def __init__(self,embedding_dimension,heads=8,head_dimension=32):\n",
    "        super().__init__()\n",
    "        self.heads = heads\n",
    "        self.head_dimension = head_dimension\n",
    "        self.embedding_dimension = embedding_dimension\n",
    "        self.scaling_factor = self.head_dimension**-0.5\n",
    "\n",
    "        self.query_proj = nn.Linear(self.embedding_dimension,self.heads*self.head_dimension)\n",
    "        self.key_proj = nn.Linear(self.embedding_dimension,self.heads*self.head_dimension)\n",
    "        self.value_proj = nn.Linear(self.embedding_dimension,self.heads*self.head_dimension)\n",
    "        self.output_proj = nn.Linear(self.heads*self.head_dimension, self.embedding_dimension)\n",
    "\n",
    "    def forward(self,input):\n",
    "        batch_size,sq_length, _ = input.shape\n",
    "        query = self.query_proj(input)\n",
    "        key = self.key_proj(input)\n",
    "        value = self.value_proj(input)\n",
    "\n",
    "        q = query.reshape(batch_size,sequence_length,self.heads,self.head_dimension).transpose(2,1)\n",
    "        k = key.reshape(batch_size,sequence_length,self.heads,self.head_dimension).transpose(2,1)\n",
    "        v = value.reshape(batch_size,sequence_length,self.heads,self.head_dimension).transpose(2,1)\n",
    "\n",
    "        qk = q@k.transpose(-1,-2)*self.scaling_factor\n",
    "\n",
    "        ##### position embedding here\n",
    "        # qk = qk + relative_position_embedding\n",
    "        \n",
    "        mask = torch.ones((qk.shape[-1],qk.shape[-1]), dtype=torch.bool).triu(1)\n",
    "        qk_masked = qk.masked_fill(mask,float('-inf'))\n",
    "        qk_softmax = F.softmax(qk_masked,dim=-1)\n",
    "\n",
    "        print(qk_softmax.shape, v.shape)\n",
    "        new_value = qk_softmax@v\n",
    "        new_value  = new_value.transpose(1,2).reshape(batch_size,sequence_length,-1)\n",
    "\n",
    "        output = self.output_proj(new_value)\n",
    "\n",
    "        return output"
   ]
  },
  {
   "cell_type": "code",
   "execution_count": 5,
   "id": "bb01ff66-3be4-4d7b-9a80-55fb95e84936",
   "metadata": {},
   "outputs": [
    {
     "ename": "NameError",
     "evalue": "name 'MultiHeadsAttention' is not defined",
     "output_type": "error",
     "traceback": [
      "\u001b[0;31m---------------------------------------------------------------------------\u001b[0m",
      "\u001b[0;31mNameError\u001b[0m                                 Traceback (most recent call last)",
      "Cell \u001b[0;32mIn[5], line 1\u001b[0m\n\u001b[0;32m----> 1\u001b[0m mha \u001b[38;5;241m=\u001b[39m MultiHeadsAttention(\u001b[38;5;241m300\u001b[39m)\n\u001b[1;32m      2\u001b[0m \u001b[38;5;28minput\u001b[39m \u001b[38;5;241m=\u001b[39m torch\u001b[38;5;241m.\u001b[39mrand(\u001b[38;5;241m8\u001b[39m,\u001b[38;5;241m512\u001b[39m,\u001b[38;5;241m300\u001b[39m)\n\u001b[1;32m      3\u001b[0m \u001b[38;5;28mprint\u001b[39m(mha(\u001b[38;5;28minput\u001b[39m)\u001b[38;5;241m.\u001b[39mshape)\n",
      "\u001b[0;31mNameError\u001b[0m: name 'MultiHeadsAttention' is not defined"
     ]
    }
   ],
   "source": [
    "mha = MultiHeadsAttention(300)\n",
    "input = torch.rand(8,512,300)\n",
    "print(mha(input).shape)"
   ]
  },
  {
   "cell_type": "code",
   "execution_count": null,
   "id": "0206c22b",
   "metadata": {},
   "outputs": [],
   "source": []
  },
  {
   "cell_type": "code",
   "execution_count": null,
   "id": "1e8c741c",
   "metadata": {},
   "outputs": [],
   "source": []
  }
 ],
 "metadata": {
  "kernelspec": {
   "display_name": "Python 3 (ipykernel)",
   "language": "python",
   "name": "python3"
  },
  "language_info": {
   "codemirror_mode": {
    "name": "ipython",
    "version": 3
   },
   "file_extension": ".py",
   "mimetype": "text/x-python",
   "name": "python",
   "nbconvert_exporter": "python",
   "pygments_lexer": "ipython3",
   "version": "3.12.7"
  }
 },
 "nbformat": 4,
 "nbformat_minor": 5
}
